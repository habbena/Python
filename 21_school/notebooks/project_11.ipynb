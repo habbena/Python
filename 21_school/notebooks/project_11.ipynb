{
 "cells": [
  {
   "cell_type": "code",
   "execution_count": 15,
   "id": "e858dae6",
   "metadata": {},
   "outputs": [],
   "source": [
    "import pandas as pd\n",
    "import warnings\n",
    "\n",
    "warnings.filterwarnings('ignore')\n",
    "\n",
    "# pd.set_option('display.max_colwidth', None)"
   ]
  },
  {
   "cell_type": "code",
   "execution_count": 68,
   "id": "ff99f373",
   "metadata": {},
   "outputs": [],
   "source": [
    "#пропиши путь к файлу\n",
    "data = pd.read_csv('../datasets/netflix_titles.csv')"
   ]
  },
  {
   "cell_type": "code",
   "execution_count": 17,
   "id": "2a62216e",
   "metadata": {},
   "outputs": [
    {
     "name": "stdout",
     "output_type": "stream",
     "text": [
      "<class 'pandas.core.frame.DataFrame'>\n",
      "RangeIndex: 8807 entries, 0 to 8806\n",
      "Data columns (total 12 columns):\n",
      " #   Column        Non-Null Count  Dtype \n",
      "---  ------        --------------  ----- \n",
      " 0   show_id       8807 non-null   object\n",
      " 1   type          8807 non-null   object\n",
      " 2   title         8807 non-null   object\n",
      " 3   director      6173 non-null   object\n",
      " 4   cast          7982 non-null   object\n",
      " 5   country       7976 non-null   object\n",
      " 6   date_added    8797 non-null   object\n",
      " 7   release_year  8807 non-null   int64 \n",
      " 8   rating        8803 non-null   object\n",
      " 9   duration      8804 non-null   object\n",
      " 10  listed_in     8807 non-null   object\n",
      " 11  description   8807 non-null   object\n",
      "dtypes: int64(1), object(11)\n",
      "memory usage: 825.8+ KB\n"
     ]
    }
   ],
   "source": [
    "data.info()"
   ]
  },
  {
   "cell_type": "code",
   "execution_count": null,
   "id": "ca8dfc8e",
   "metadata": {},
   "outputs": [],
   "source": [
    "data.head()"
   ]
  },
  {
   "cell_type": "markdown",
   "id": "5dccfac5",
   "metadata": {},
   "source": [
    "# Task 1"
   ]
  },
  {
   "cell_type": "markdown",
   "id": "e77b6174",
   "metadata": {},
   "source": [
    "Сколько в выборке сериалов?"
   ]
  },
  {
   "cell_type": "code",
   "execution_count": 7,
   "id": "00c07874",
   "metadata": {},
   "outputs": [
    {
     "data": {
      "text/plain": [
       "Movie      6131\n",
       "TV Show    2676\n",
       "Name: type, dtype: int64"
      ]
     },
     "execution_count": 7,
     "metadata": {},
     "output_type": "execute_result"
    }
   ],
   "source": [
    "data['type'].value_counts()"
   ]
  },
  {
   "cell_type": "code",
   "execution_count": 17,
   "id": "83642c5e",
   "metadata": {},
   "outputs": [
    {
     "name": "stdout",
     "output_type": "stream",
     "text": [
      "В выборке 2676 сериалов.\n"
     ]
    }
   ],
   "source": [
    "print(\"В выборке\", data['type'].value_counts()[1], \"сериалов.\")"
   ]
  },
  {
   "cell_type": "code",
   "execution_count": 27,
   "id": "26ccf0f0",
   "metadata": {},
   "outputs": [
    {
     "name": "stdout",
     "output_type": "stream",
     "text": [
      "В выборке находится 2676 сериалов\n"
     ]
    }
   ],
   "source": [
    "cnt = (data['type'].str.contains('TV Show').sum())\n",
    "print(f'В выборке находится {cnt} сериалов.')"
   ]
  },
  {
   "cell_type": "markdown",
   "id": "a5571557",
   "metadata": {},
   "source": [
    "# Task 2"
   ]
  },
  {
   "cell_type": "markdown",
   "id": "4d83b2c4",
   "metadata": {},
   "source": [
    "Используя параметр 'duration' вычисли, сколько сезонов в среднем длится один сериал?\n",
    "\n",
    "Замени пропуски в 'duration' на 1 - хотя бы один уже выпустили :)\n",
    "\n",
    "Округли ответ до целых в большую сторону."
   ]
  },
  {
   "cell_type": "code",
   "execution_count": 117,
   "id": "d6c3de42",
   "metadata": {},
   "outputs": [
    {
     "data": {
      "text/plain": [
       "pandas.core.frame.DataFrame"
      ]
     },
     "execution_count": 117,
     "metadata": {},
     "output_type": "execute_result"
    }
   ],
   "source": [
    "ser = data[data['type'] == 'TV Show'] # создаем отдельный df для сериалов\n",
    "ser['duration'].isna().sum() #проверяем нет ли пустых значений"
   ]
  },
  {
   "cell_type": "code",
   "execution_count": 103,
   "id": "06e01966",
   "metadata": {},
   "outputs": [],
   "source": [
    "ser.duration = ser.duration.str.replace(' Seasons', '')\n",
    "ser.duration = ser.duration.str.replace(' Season', '')"
   ]
  },
  {
   "cell_type": "code",
   "execution_count": 105,
   "id": "d7caebbb",
   "metadata": {},
   "outputs": [],
   "source": [
    "ser.duration = ser.duration.astype('int')"
   ]
  },
  {
   "cell_type": "code",
   "execution_count": 114,
   "id": "1ae66209",
   "metadata": {},
   "outputs": [
    {
     "name": "stdout",
     "output_type": "stream",
     "text": [
      "Один сериал в среднем длится 1.76 сезонов.\n"
     ]
    }
   ],
   "source": [
    "avg_dur = ser.duration.mean()\n",
    "print(f\"Один сериал в среднем длится {round(avg_dur, 2)} сезонов.\")"
   ]
  },
  {
   "cell_type": "markdown",
   "id": "74d940c5",
   "metadata": {},
   "source": [
    "# Task 3"
   ]
  },
  {
   "cell_type": "markdown",
   "id": "38532d32",
   "metadata": {},
   "source": [
    "Собери словарь с классификацией рейтингов на русском языке и замени значения в столбце data['category'], используя метод map(). \n",
    "Для разметки можно использовать [информацию с этой странички](https://www.primevideo.com/help?nodeId=GFGQU3WYEG6FSJFJ).\n",
    "\n",
    "В колонку с рейтингом могли попасть ошибки. Замени в этих строках и в строках с пропусками рейтинг на 'Нет данных'.\n",
    "\n",
    "В какой категории рейтинга больше всего фильмов?"
   ]
  },
  {
   "cell_type": "code",
   "execution_count": 39,
   "id": "1e755b5e",
   "metadata": {},
   "outputs": [],
   "source": [
    "raiting = pd.read_csv('AgeRaiting_dict.csv')"
   ]
  },
  {
   "cell_type": "code",
   "execution_count": 44,
   "id": "76c44855",
   "metadata": {},
   "outputs": [],
   "source": [
    "keys = list(raiting['Key'])\n",
    "values = list(raiting['Value'])"
   ]
  },
  {
   "cell_type": "code",
   "execution_count": 46,
   "id": "08d6527f",
   "metadata": {},
   "outputs": [],
   "source": [
    "raiting_dict = dict(zip(keys,values ))"
   ]
  },
  {
   "cell_type": "code",
   "execution_count": 47,
   "id": "232993da",
   "metadata": {},
   "outputs": [
    {
     "name": "stdout",
     "output_type": "stream",
     "text": [
      "{'G': '0+', 'NC-17': '18+', 'NR': '18+', 'PG': '7+', 'PG-13': '13+', 'R': '18+', 'TV-14': '16+', 'TV-G': '0+', 'TV-MA': '18+', 'TV-PG': '7+', 'TV-Y': '0+', 'TV-Y7': '7+', 'TV-Y7-FV': '7+', 'UR': 'Unrated'}\n"
     ]
    }
   ],
   "source": [
    "print(raiting_dict)"
   ]
  },
  {
   "cell_type": "code",
   "execution_count": 78,
   "id": "2a62da6a",
   "metadata": {},
   "outputs": [
    {
     "name": "stdout",
     "output_type": "stream",
     "text": [
      "8803\n",
      "TV-MA       3207\n",
      "TV-14       2160\n",
      "TV-PG        863\n",
      "R            799\n",
      "PG-13        490\n",
      "TV-Y7        334\n",
      "TV-Y         307\n",
      "PG           287\n",
      "TV-G         220\n",
      "NR            80\n",
      "G             41\n",
      "TV-Y7-FV       6\n",
      "NC-17          3\n",
      "UR             3\n",
      "74 min         1\n",
      "84 min         1\n",
      "66 min         1\n",
      "Name: rating, dtype: int64\n"
     ]
    }
   ],
   "source": [
    "data = pd.read_csv('../datasets/netflix_titles.csv')\n",
    "print(data['rating'].value_counts().sum())\n",
    "print(data['rating'].value_counts())"
   ]
  },
  {
   "cell_type": "code",
   "execution_count": 79,
   "id": "cfd39c98",
   "metadata": {},
   "outputs": [
    {
     "name": "stdout",
     "output_type": "stream",
     "text": [
      "8807\n",
      "18+        4089\n",
      "16+        2160\n",
      "7+         1490\n",
      "0+          568\n",
      "13+         490\n",
      "Unrated      10\n",
      "Name: rating, dtype: int64\n"
     ]
    }
   ],
   "source": [
    "data = pd.read_csv('../datasets/netflix_titles.csv')\n",
    "data['rating'] = data['rating'].map(raiting_dict).fillna('Unrated')\n",
    "print(data['rating'].value_counts().sum())\n",
    "print(data['rating'].value_counts())"
   ]
  },
  {
   "cell_type": "markdown",
   "id": "1d1c1ff2",
   "metadata": {},
   "source": [
    "# Task 4"
   ]
  },
  {
   "cell_type": "markdown",
   "id": "264d1479",
   "metadata": {},
   "source": [
    "Сколько разных жанров на платформе? Выведи уникальные значения из поля 'listed_in'"
   ]
  },
  {
   "cell_type": "code",
   "execution_count": 137,
   "id": "05fe9dae",
   "metadata": {},
   "outputs": [
    {
     "data": {
      "text/plain": [
       "514"
      ]
     },
     "execution_count": 137,
     "metadata": {},
     "output_type": "execute_result"
    }
   ],
   "source": [
    "data.listed_in.nunique()"
   ]
  },
  {
   "cell_type": "markdown",
   "id": "888e6fc9",
   "metadata": {},
   "source": [
    "# Task 5"
   ]
  },
  {
   "cell_type": "markdown",
   "id": "148db8a1",
   "metadata": {},
   "source": [
    "Какой жанр произведений чаще всего выпускали в США за последние 5 лет с 2017 по 2021? \n",
    "\n",
    "Так как Netflix - американский сервис, то все пропуски в поле 'страна' можно заменить на United States и не исключать их из статистики"
   ]
  },
  {
   "cell_type": "code",
   "execution_count": 139,
   "id": "63eb72ef",
   "metadata": {},
   "outputs": [],
   "source": [
    "data.country.fillna('United States', inplace = True)"
   ]
  },
  {
   "cell_type": "code",
   "execution_count": 164,
   "id": "a3293352",
   "metadata": {},
   "outputs": [],
   "source": [
    "years = [2017,2018, 2019, 2020, 2021]\n",
    "countries = ['United States']"
   ]
  },
  {
   "cell_type": "code",
   "execution_count": 166,
   "id": "2566dfb8",
   "metadata": {},
   "outputs": [],
   "source": [
    "query_1 = data.query(\"release_year in @years & country in @countries\")"
   ]
  },
  {
   "cell_type": "code",
   "execution_count": 169,
   "id": "25eac9e2",
   "metadata": {},
   "outputs": [
    {
     "data": {
      "text/plain": [
       "'Documentaries'"
      ]
     },
     "execution_count": 169,
     "metadata": {},
     "output_type": "execute_result"
    }
   ],
   "source": [
    "query_1['listed_in'].value_counts().idxmax()"
   ]
  },
  {
   "cell_type": "markdown",
   "id": "1778dd66",
   "metadata": {},
   "source": [
    "# Дополнительное задание *"
   ]
  },
  {
   "cell_type": "markdown",
   "id": "e4ec3996",
   "metadata": {},
   "source": [
    "Выведи топ 3 самых популярных актера в жанре Comedies"
   ]
  },
  {
   "cell_type": "code",
   "execution_count": 85,
   "id": "2a6cd6d9",
   "metadata": {},
   "outputs": [],
   "source": [
    "comedies = data[(data.listed_in.str.contains('Comedies')) &\n",
    "               (data.cast.isna() == False)][['cast']].copy()"
   ]
  },
  {
   "cell_type": "code",
   "execution_count": 84,
   "id": "1dc0ecb8",
   "metadata": {},
   "outputs": [
    {
     "data": {
      "text/html": [
       "<div>\n",
       "<style scoped>\n",
       "    .dataframe tbody tr th:only-of-type {\n",
       "        vertical-align: middle;\n",
       "    }\n",
       "\n",
       "    .dataframe tbody tr th {\n",
       "        vertical-align: top;\n",
       "    }\n",
       "\n",
       "    .dataframe thead th {\n",
       "        text-align: right;\n",
       "    }\n",
       "</style>\n",
       "<table border=\"1\" class=\"dataframe\">\n",
       "  <thead>\n",
       "    <tr style=\"text-align: right;\">\n",
       "      <th></th>\n",
       "      <th>cast</th>\n",
       "    </tr>\n",
       "  </thead>\n",
       "  <tbody>\n",
       "    <tr>\n",
       "      <th>4</th>\n",
       "      <td>Mayur More, Jitendra Kumar, Ranjan Raj, Alam K...</td>\n",
       "    </tr>\n",
       "    <tr>\n",
       "      <th>9</th>\n",
       "      <td>Melissa McCarthy, Chris O'Dowd, Kevin Kline, T...</td>\n",
       "    </tr>\n",
       "    <tr>\n",
       "      <th>13</th>\n",
       "      <td>Klara Castanho, Lucca Picon, Júlia Gomes, Marc...</td>\n",
       "    </tr>\n",
       "    <tr>\n",
       "      <th>15</th>\n",
       "      <td>Logan Browning, Brandon P. Bell, DeRon Horton,...</td>\n",
       "    </tr>\n",
       "    <tr>\n",
       "      <th>22</th>\n",
       "      <td>Kamal Hassan, Meena, Gemini Ganesan, Heera Raj...</td>\n",
       "    </tr>\n",
       "  </tbody>\n",
       "</table>\n",
       "</div>"
      ],
      "text/plain": [
       "                                                 cast\n",
       "4   Mayur More, Jitendra Kumar, Ranjan Raj, Alam K...\n",
       "9   Melissa McCarthy, Chris O'Dowd, Kevin Kline, T...\n",
       "13  Klara Castanho, Lucca Picon, Júlia Gomes, Marc...\n",
       "15  Logan Browning, Brandon P. Bell, DeRon Horton,...\n",
       "22  Kamal Hassan, Meena, Gemini Ganesan, Heera Raj..."
      ]
     },
     "execution_count": 84,
     "metadata": {},
     "output_type": "execute_result"
    }
   ],
   "source": [
    "comedies.head()"
   ]
  },
  {
   "cell_type": "code",
   "execution_count": 90,
   "id": "cfe3b28e",
   "metadata": {},
   "outputs": [],
   "source": [
    "all_actors = comedies['cast'].str.split(',').explode()\n",
    "actor_counts = all_actors.value_counts()\n",
    "top_actors = actor_counts.head(3)"
   ]
  },
  {
   "cell_type": "code",
   "execution_count": 91,
   "id": "b2bc6564",
   "metadata": {},
   "outputs": [
    {
     "name": "stdout",
     "output_type": "stream",
     "text": [
      " Anupam Kher     20\n",
      "Adam Sandler     18\n",
      " Paresh Rawal    16\n",
      "Name: cast, dtype: int64\n"
     ]
    }
   ],
   "source": [
    "print(top_actors)"
   ]
  },
  {
   "cell_type": "code",
   "execution_count": 93,
   "id": "29d25a2f",
   "metadata": {},
   "outputs": [],
   "source": [
    "actors_count = {}\n",
    "for row in comedies['cast']:\n",
    "    actors = row.split(',')\n",
    "    for actor in actors:\n",
    "        actors_count[actor] = actors_count.get(actor, 0) + 1\n",
    "    "
   ]
  },
  {
   "cell_type": "markdown",
   "id": "d7c5756b",
   "metadata": {},
   "source": [
    "**actor_counts.get(actor, 0)**:    \n",
    "эта строка извлекает текущее количество актеров из словаря actor_counts . \n",
    "Метод get() используется для доступа к значению, связанному с actor ключом. Если ключ ( actor) присутствует в словаре, он возвращает соответствующее значение (текущее количество). Если ключ не найден в словаре, он возвращает указанное значение по умолчанию (0 в данном случае).\n",
    "\n",
    "**+ 1**: Эта часть увеличивает полученный счетчик на 1. Он обновляет счетчик, чтобы отразить вхождение актера в текущую строку.\n",
    "\n",
    "**actor_counts[actor]**: Наконец, эта строка присваивает обновленный счетчик ключу actorв actor_countsсловаре. Если актор уже присутствует в качестве ключа в словаре, значение счетчика будет обновлено. Если актер еще не присутствует, в словарь будет добавлена ​​новая пара ключ-значение, представляющая актера и его количество.\n",
    "\n",
    "Таким образом, эта строка кода извлекает текущее количество актеров из словаря, увеличивает его на 1, и обновляет количество в словаре. Он эффективно подсчитывает количество вхождений каждого актера в кадре данных, обновляя словарь с актером в качестве ключа и их соответствующим счетчиком в качестве значения.\n",
    "\n",
    "\n",
    "\n",
    "\n",
    "\n",
    "\n"
   ]
  },
  {
   "cell_type": "code",
   "execution_count": 94,
   "id": "ac4a2cb4",
   "metadata": {},
   "outputs": [],
   "source": [
    "sorted_actors = sorted(actors_count.items(), key = lambda x: x[1], reverse = True)"
   ]
  },
  {
   "cell_type": "markdown",
   "id": "09b8181f",
   "metadata": {},
   "source": [
    "**actor_counts.items()**: эта часть получает список пар ключ-значение из actor_counts словаря. Каждая пара представляет актера и его количество.\n",
    "\n",
    "**key=lambda x: x[1]**: эта часть определяет ключевую функцию с помощью лямбда-выражения. Он указывает, что сортировка должна основываться на втором элементе ( x[1]) каждой пары ключ-значение. В данном случае это означает сортировку по количеству каждого актера.\n",
    "\n",
    "**reverse=True**: этот параметр используется для указания сортировки по убыванию. Актеры с более высокими значениями будут отображаться первыми в отсортированном списке.\n",
    "\n",
    "**sorted()**: эта функция берет список пар ключ-значение и выполняет сортировку на основе указанной ключевой функции. Он возвращает новый список с парами, отсортированными в нужном порядке.\n",
    "\n",
    "**sorted_actors**: Наконец, эта строка присваивает отсортированный список пар ключ-значение переменной sorted_actors.\n",
    "\n",
    "Таким образом, эта строка кода сортирует пары ключ-значение из словаря actor_countsна основе количества (второго элемента) каждой пары в порядке убывания. Он возвращает новый список ( sorted_actors) с парами, отсортированными в соответствии с указанными критериями."
   ]
  },
  {
   "cell_type": "code",
   "execution_count": 103,
   "id": "dd538af3",
   "metadata": {},
   "outputs": [
    {
     "name": "stdout",
     "output_type": "stream",
     "text": [
      " Anupam Kher: 20\n",
      "Adam Sandler: 18\n",
      " Paresh Rawal: 16\n"
     ]
    }
   ],
   "source": [
    "for i, (actor, count) in enumerate(sorted_actors):\n",
    "    print(f'{actor}: {count}')\n",
    "    if i == 2:  # Prints only the top three actors\n",
    "        break"
   ]
  },
  {
   "cell_type": "code",
   "execution_count": null,
   "id": "0776f562",
   "metadata": {},
   "outputs": [],
   "source": []
  }
 ],
 "metadata": {
  "kernelspec": {
   "display_name": "Python 3 (ipykernel)",
   "language": "python",
   "name": "python3"
  },
  "language_info": {
   "codemirror_mode": {
    "name": "ipython",
    "version": 3
   },
   "file_extension": ".py",
   "mimetype": "text/x-python",
   "name": "python",
   "nbconvert_exporter": "python",
   "pygments_lexer": "ipython3",
   "version": "3.10.9"
  }
 },
 "nbformat": 4,
 "nbformat_minor": 5
}
