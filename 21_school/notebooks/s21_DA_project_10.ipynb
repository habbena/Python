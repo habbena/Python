{
 "cells": [
  {
   "cell_type": "markdown",
   "id": "5dccfac5",
   "metadata": {},
   "source": [
    "# Task 1"
   ]
  },
  {
   "cell_type": "markdown",
   "id": "e77b6174",
   "metadata": {},
   "source": [
    "Напишите программу, которая запрашивает у пользователя два слова и выводит на экран сообщение вида \"Слово [слово1] состоит из [количество букв в слове1] букв, а слово [слово2] состоит из [количество букв в слове2] букв.\" "
   ]
  },
  {
   "cell_type": "code",
   "execution_count": 13,
   "id": "b574050c",
   "metadata": {},
   "outputs": [
    {
     "name": "stdout",
     "output_type": "stream",
     "text": [
      "Введите слово: gkkgkg\n",
      "Введите слово: lflf\n",
      "Слово gkkgkg состоит из 6 букв, а слово lflf состоит из 4 букв. \n"
     ]
    }
   ],
   "source": [
    "# место для решения\n",
    "word1 = input('Введите слово: ')\n",
    "word2 = input('Введите слово: ')\n",
    "print(f'Слово {word1} состоит из {len(word1)} букв, а слово {word2} состоит из {len(word2)} букв. ')\n",
    "\n"
   ]
  },
  {
   "cell_type": "markdown",
   "id": "404b629e",
   "metadata": {},
   "source": [
    "# Task 2"
   ]
  },
  {
   "cell_type": "markdown",
   "id": "425361a6",
   "metadata": {},
   "source": [
    "Напишите функцию \"average_grade\", которая принимает на вход список оценок \"grades\" и возвращает среднюю оценку"
   ]
  },
  {
   "cell_type": "code",
   "execution_count": 16,
   "id": "6392671e",
   "metadata": {},
   "outputs": [],
   "source": [
    "input_grades = [3, 3, 5, 3, 5, 5, 4, 3, 2, 5]"
   ]
  },
  {
   "cell_type": "code",
   "execution_count": 21,
   "id": "3fa7c99e",
   "metadata": {},
   "outputs": [],
   "source": [
    "def average_grade(grades):\n",
    " avg = sum(input_grades) / len(input_grades)\n",
    " print(avg)"
   ]
  },
  {
   "cell_type": "code",
   "execution_count": 22,
   "id": "088be229",
   "metadata": {},
   "outputs": [
    {
     "name": "stdout",
     "output_type": "stream",
     "text": [
      "3.8\n"
     ]
    }
   ],
   "source": [
    "average_grade(input_grades)"
   ]
  },
  {
   "cell_type": "markdown",
   "id": "00f51570",
   "metadata": {},
   "source": [
    "# Task 3"
   ]
  },
  {
   "cell_type": "markdown",
   "id": "d428b693",
   "metadata": {},
   "source": [
    "Клиент банка выбирает вклад. Напишите программу, которая будет вычислять, сколько денег будет на вкладе через N лет, если известна начальная сумма вклада и годовая процентная ставка. Проценты, начисленные за год, прибавляются к сумме вклада и учитываются при следующем начислении. "
   ]
  },
  {
   "cell_type": "code",
   "execution_count": 121,
   "id": "114e391a",
   "metadata": {
    "scrolled": true
   },
   "outputs": [
    {
     "name": "stdout",
     "output_type": "stream",
     "text": [
      "Размер вклада: 100\n",
      "Годовая процентная ставка: 10\n",
      "Срок вклада: 10\n",
      "259.37424601\n"
     ]
    }
   ],
   "source": [
    "deposit = float(input(\"Размер вклада: \"))\n",
    "APR = float(input('Годовая процентная ставка: ')) / 100 #APR это – годовая процентная ставка банка по продукту\n",
    "period = int(input('Срок вклада: '))\n",
    "\n",
    "i = 0\n",
    "while (i < period):\n",
    "    deposit = deposit + deposit * APR\n",
    "    i += 1\n",
    "\n",
    "print(deposit)"
   ]
  },
  {
   "cell_type": "markdown",
   "id": "26cb4a51",
   "metadata": {},
   "source": [
    "# Task 4"
   ]
  },
  {
   "cell_type": "markdown",
   "id": "b50754e6",
   "metadata": {},
   "source": [
    "Мы собираемся арендовать склад и хранить в нем антиквариат для магазинчика. Вещей очень много, и они не помещаются. Напишите функцию, которая принимает на вход площадь склада и словарь с мебелью, и выводит, какие вещи в него смогут поместиться. Считаем только площать по полу, потому что ставить их друг на друга нельзя."
   ]
  },
  {
   "cell_type": "code",
   "execution_count": 122,
   "id": "eed8ab39",
   "metadata": {},
   "outputs": [],
   "source": [
    "furniture = {\"кровать\": 10, \"шкаф\": 5, \"комод\": 3, \"стол\": 7, \"стул\": 1, \n",
    "             \"диван\": 15, \"кресло\": 5, \"тумбочка\": 2, \"полка\": 2, \"шезлонг\": 6, \n",
    "             \"стеллаж\": 8, \"кухонный гарнитур\": 12, \"обеденный стол\": 10, \"барная стойка\": 4, \"книжный шкаф\": 10}"
   ]
  },
  {
   "cell_type": "code",
   "execution_count": 123,
   "id": "2da8d309",
   "metadata": {},
   "outputs": [],
   "source": [
    "# использование списков\n",
    "\n",
    "def furniturefit(roomarea, furniture):\n",
    "    all_furniture_square = list(furniture.values())\n",
    "    all_furniture = list(furniture.keys())\n",
    "    fittingfurniture = []\n",
    "    posSquare = 0\n",
    "    i = 0\n",
    "    while (posSquare <= roomarea):\n",
    "            posSquare += all_furniture_square[i]\n",
    "            if (posSquare <= roomarea):\n",
    "                fittingfurniture.append(all_furniture[i])\n",
    "                i += 1        \n",
    "    return fittingfurniture"
   ]
  },
  {
   "cell_type": "code",
   "execution_count": 124,
   "id": "708dc0bd",
   "metadata": {
    "scrolled": true
   },
   "outputs": [
    {
     "name": "stdout",
     "output_type": "stream",
     "text": [
      "Площадь склада: 10\n",
      "Мебель, которая поместится в комнате: ['кровать']\n"
     ]
    }
   ],
   "source": [
    "roomarea = int(input('Площадь склада: '))\n",
    "fittingfurniture = furniturefit(roomarea, furniture)\n",
    "print(\"Мебель, которая поместится в комнате:\", fittingfurniture)"
   ]
  },
  {
   "cell_type": "code",
   "execution_count": null,
   "id": "7244a512",
   "metadata": {},
   "outputs": [],
   "source": [
    " # через использование словарей \n",
    "    \n",
    "def furniturefit(roomarea, furniture):\n",
    "    area = roomarea\n",
    "    fittingfurniture = {} # создаем пустой словарь\n",
    "    for i in furniture:\n",
    "        if (area - int(furniture[i])) >= 0:\n",
    "            area -= int(furniture[i])\n",
    "            fittingfurniture[i] = furniture[i]\n",
    "\n",
    "    return fittingfurniture"
   ]
  },
  {
   "cell_type": "markdown",
   "id": "b5a654e9",
   "metadata": {},
   "source": [
    "# Дополнительное задание *"
   ]
  },
  {
   "cell_type": "markdown",
   "id": "72f1c016",
   "metadata": {},
   "source": [
    "Для подключения городской библиотеки к электронному учету необходимо подсчитать, сколько категорий жанров нужно для нее завести в рубрикаторе. В библиотеке нет базы данных, поэтому удалось только вручную собрать информацию текстовый в файл. В файле записи о книгах содержатся в виде: категория -> автор -> название -> год выпуска.\n",
    "Необходимо считать этот файл и написать программу, которая подсчитает количество уникальных значений категории."
   ]
  },
  {
   "cell_type": "markdown",
   "id": "4908609c",
   "metadata": {},
   "source": [
    "Напишите 3 функции: \n",
    "\n",
    "    - чтение файла\n",
    "    - выделение из каждой строки названия жанра\n",
    "    - подсчет уникальных значений жанра"
   ]
  },
  {
   "cell_type": "code",
   "execution_count": 116,
   "id": "a4728bad",
   "metadata": {},
   "outputs": [],
   "source": [
    "def read_file(filename):\n",
    "    with open(filename) as f:\n",
    "        for line in f:\n",
    "            y = line.split('|')\n",
    "            list_of_books.append(y)    \n",
    "    return list_of_books"
   ]
  },
  {
   "cell_type": "code",
   "execution_count": 117,
   "id": "09ddf2fb",
   "metadata": {},
   "outputs": [],
   "source": [
    "def extract_genres(book):\n",
    "    for line in  list_of_books:\n",
    "        genres.append(line[0])    \n",
    "    return genres"
   ]
  },
  {
   "cell_type": "code",
   "execution_count": 120,
   "id": "f67a59e1",
   "metadata": {},
   "outputs": [],
   "source": [
    "def remove_duplicates(genres):\n",
    "    unique_genres = []\n",
    "    for genre in genres:\n",
    "        if genre not in unique_genres:\n",
    "            unique_genres.append(genre)\n",
    "    unique_genres.sort()\n",
    "    return unique_genres"
   ]
  },
  {
   "cell_type": "markdown",
   "id": "1a50cbf3",
   "metadata": {},
   "source": [
    "Ниже примерный порядок, в котором нужно произвести обработку файла:"
   ]
  },
  {
   "cell_type": "code",
   "execution_count": 119,
   "id": "097ee573",
   "metadata": {},
   "outputs": [
    {
     "name": "stdout",
     "output_type": "stream",
     "text": [
      "В рубрикаторе необходимо завести 178 категорий \n"
     ]
    }
   ],
   "source": [
    "filename = 'bibliography.txt'\n",
    "books_list = read_file(file_name)\n",
    "genres = extract_genres(books_list)\n",
    "unique_genres = remove_duplicates(genres)\n",
    "print('В рубрикаторе необходимо завести %s категорий ' %len(unique_genres))"
   ]
  }
 ],
 "metadata": {
  "kernelspec": {
   "display_name": "Python 3 (ipykernel)",
   "language": "python",
   "name": "python3"
  },
  "language_info": {
   "codemirror_mode": {
    "name": "ipython",
    "version": 3
   },
   "file_extension": ".py",
   "mimetype": "text/x-python",
   "name": "python",
   "nbconvert_exporter": "python",
   "pygments_lexer": "ipython3",
   "version": "3.10.9"
  }
 },
 "nbformat": 4,
 "nbformat_minor": 5
}
